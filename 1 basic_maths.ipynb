{
 "cells": [
  {
   "cell_type": "markdown",
   "id": "ca940db8",
   "metadata": {},
   "source": [
    "### 1) Extraction of Digits from an Integer"
   ]
  },
  {
   "cell_type": "code",
   "execution_count": 2,
   "id": "276cca03",
   "metadata": {},
   "outputs": [
    {
     "name": "stdout",
     "output_type": "stream",
     "text": [
      "3\n",
      "8\n",
      "7\n",
      "5\n"
     ]
    }
   ],
   "source": [
    "n = 5783 #input\n",
    "\n",
    "num = n \n",
    "while num > 0:\n",
    "    last_digit = num % 10\n",
    "    print(last_digit)\n",
    "    num = num//10"
   ]
  },
  {
   "cell_type": "markdown",
   "id": "725fc901",
   "metadata": {},
   "source": [
    "### 2) Count number of Digits in an integer"
   ]
  },
  {
   "cell_type": "code",
   "execution_count": 6,
   "id": "efe77859",
   "metadata": {},
   "outputs": [
    {
     "name": "stdout",
     "output_type": "stream",
     "text": [
      "6\n"
     ]
    }
   ],
   "source": [
    "n = 708954 #input\n",
    "\n",
    "num = n \n",
    "count = 0\n",
    "while num > 0:\n",
    "    last_digit = num % 10\n",
    "    count += 1\n",
    "    num = num//10\n",
    "print(count)"
   ]
  },
  {
   "cell_type": "code",
   "execution_count": null,
   "id": "92fd9ad8",
   "metadata": {},
   "outputs": [
    {
     "name": "stdout",
     "output_type": "stream",
     "text": [
      "5\n"
     ]
    }
   ],
   "source": [
    "# Alternate Method\n",
    "from math import log10\n",
    "\n",
    "n = 45678\n",
    "def countDigits(num):\n",
    "    return int(log10(num)+1)\n",
    "    \n",
    "print(countDigits(n))\n"
   ]
  },
  {
   "cell_type": "markdown",
   "id": "16fab2b5",
   "metadata": {},
   "source": [
    "TC - O(log10(n)),\n",
    "SC- O(1)"
   ]
  },
  {
   "cell_type": "markdown",
   "id": "77bcc635",
   "metadata": {},
   "source": [
    "### 3) Check If a Number is Palindrome or Not\n"
   ]
  },
  {
   "cell_type": "code",
   "execution_count": 9,
   "id": "c4838738",
   "metadata": {},
   "outputs": [
    {
     "name": "stdout",
     "output_type": "stream",
     "text": [
      "True\n"
     ]
    }
   ],
   "source": [
    "n = 1221 #input\n",
    "num = n \n",
    "result = 0 \n",
    "\n",
    "while num > 0:\n",
    "    ld = num % 10\n",
    "    result = (result * 10)+ld\n",
    "    num = num//10\n",
    "print(n == result) "
   ]
  },
  {
   "cell_type": "markdown",
   "id": "4de49142",
   "metadata": {},
   "source": [
    "TC - O(log10(n)),\n",
    "SC- O(1)"
   ]
  },
  {
   "cell_type": "markdown",
   "id": "70a2a0cf",
   "metadata": {},
   "source": [
    "### 4) Armstrong Number"
   ]
  },
  {
   "cell_type": "code",
   "execution_count": 21,
   "id": "f7328668",
   "metadata": {},
   "outputs": [
    {
     "name": "stdout",
     "output_type": "stream",
     "text": [
      "True\n"
     ]
    }
   ],
   "source": [
    "import math\n",
    "n = 153\n",
    "num = n\n",
    "nod = len(str(n))\n",
    "result = 0\n",
    "\n",
    "while num > 0:\n",
    "    ld = (num % 10)**nod\n",
    "    result += ld\n",
    "    num = num//10\n",
    "    \n",
    "print(n == result)\n",
    "\n",
    "    "
   ]
  },
  {
   "cell_type": "markdown",
   "id": "b177d95f",
   "metadata": {},
   "source": [
    "TC - O(log10 N),\n",
    "SC - O(1)"
   ]
  },
  {
   "cell_type": "markdown",
   "id": "78522ab4",
   "metadata": {},
   "source": [
    "### 5) Print all Factors of Given Number "
   ]
  },
  {
   "cell_type": "code",
   "execution_count": 1,
   "id": "6233b530",
   "metadata": {},
   "outputs": [
    {
     "name": "stdout",
     "output_type": "stream",
     "text": [
      "[1, 2, 4, 5, 10, 20]\n"
     ]
    }
   ],
   "source": [
    "# Brute force method\n",
    "n = 20 \n",
    "num = n\n",
    "result_arr = []\n",
    "for i in range (1,num+1):\n",
    "    if num % i == 0:\n",
    "        result_arr.append(i)\n",
    "\n",
    "print(result_arr)"
   ]
  },
  {
   "cell_type": "code",
   "execution_count": 14,
   "id": "317987c9",
   "metadata": {},
   "outputs": [
    {
     "name": "stdout",
     "output_type": "stream",
     "text": [
      "[1, 2, 4, 5, 10, 20]\n"
     ]
    }
   ],
   "source": [
    "# Little optimised method\n",
    "n = 20\n",
    "num = n\n",
    "result_arr = []\n",
    "for i in range (1,num//2 + 1):\n",
    "    if num % i == 0:\n",
    "        result_arr.append(i)\n",
    "result_arr.append(num)\n",
    "print(result_arr)"
   ]
  },
  {
   "cell_type": "markdown",
   "id": "b692c465",
   "metadata": {},
   "source": [
    "TC - O(N/2)\n",
    "SC-O(k)"
   ]
  },
  {
   "cell_type": "code",
   "execution_count": 13,
   "id": "6c54a7cc",
   "metadata": {},
   "outputs": [
    {
     "name": "stdout",
     "output_type": "stream",
     "text": [
      "[1, 2, 4, 5, 10, 20]\n"
     ]
    }
   ],
   "source": [
    "# Optimised Solution\n",
    "from math import sqrt\n",
    "n = 20\n",
    "num = n\n",
    "result_arr = []\n",
    "for i in range(1,int(sqrt(num))+1):\n",
    "    if num%i == 0:\n",
    "        result_arr.append(i)\n",
    "        if num//i != i :\n",
    "            result_arr.append(num//i)\n",
    "            \n",
    "print(sorted(result_arr))    \n"
   ]
  },
  {
   "cell_type": "markdown",
   "id": "977fbb89",
   "metadata": {},
   "source": [
    "TC - O(√N) + O(N logN) ,\n",
    "SC - O(k)"
   ]
  }
 ],
 "metadata": {
  "kernelspec": {
   "display_name": "Python 3",
   "language": "python",
   "name": "python3"
  },
  "language_info": {
   "codemirror_mode": {
    "name": "ipython",
    "version": 3
   },
   "file_extension": ".py",
   "mimetype": "text/x-python",
   "name": "python",
   "nbconvert_exporter": "python",
   "pygments_lexer": "ipython3",
   "version": "3.13.3"
  }
 },
 "nbformat": 4,
 "nbformat_minor": 5
}
