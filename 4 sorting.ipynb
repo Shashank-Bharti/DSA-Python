{
 "cells": [
  {
   "cell_type": "markdown",
   "id": "a115313b",
   "metadata": {},
   "source": [
    "## Selection Sort"
   ]
  },
  {
   "cell_type": "code",
   "execution_count": 24,
   "id": "c2eb5cb9",
   "metadata": {},
   "outputs": [
    {
     "name": "stdout",
     "output_type": "stream",
     "text": [
      "[1, 2, 4, 5, 7, 8, 9]\n"
     ]
    }
   ],
   "source": [
    "nums = [5,7,8,4,1,9,2]\n",
    "\n",
    "def selectionSort(nums):\n",
    "    n = len(nums)\n",
    "    for i in range (0,n):\n",
    "        min_index = i\n",
    "        for j in range(i+1,n):\n",
    "            if nums[j] < nums[min_index]:\n",
    "                min_index = j\n",
    "        nums[i],nums[min_index] = nums[min_index],nums[i]\n",
    "            \n",
    "selectionSort(nums)\n",
    "print(nums)\n",
    "                "
   ]
  },
  {
   "cell_type": "code",
   "execution_count": 25,
   "id": "c62a31da",
   "metadata": {},
   "outputs": [
    {
     "name": "stdout",
     "output_type": "stream",
     "text": [
      "[8, 6, 5, 4, 3, 2, 1, 0]\n"
     ]
    }
   ],
   "source": [
    "nums2 = [8,5,6,2,4,3,1,0]\n",
    "\n",
    "def selectionSortReversed(nums):\n",
    "    n = len(nums)\n",
    "    for i in range(0,n):\n",
    "        max_index = i \n",
    "        for j in range(i+1,n):\n",
    "            if nums[j] > nums[max_index]:\n",
    "                max_index = j\n",
    "        nums[i],nums[max_index] = nums[max_index],nums[i]\n",
    "\n",
    "selectionSortReversed(nums2)\n",
    "print(nums2)\n",
    "                "
   ]
  },
  {
   "cell_type": "markdown",
   "id": "ee45b3eb",
   "metadata": {},
   "source": [
    "## Bubble Sort"
   ]
  },
  {
   "cell_type": "code",
   "execution_count": null,
   "id": "a3c39790",
   "metadata": {},
   "outputs": [],
   "source": []
  }
 ],
 "metadata": {
  "kernelspec": {
   "display_name": "Python 3",
   "language": "python",
   "name": "python3"
  },
  "language_info": {
   "codemirror_mode": {
    "name": "ipython",
    "version": 3
   },
   "file_extension": ".py",
   "mimetype": "text/x-python",
   "name": "python",
   "nbconvert_exporter": "python",
   "pygments_lexer": "ipython3",
   "version": "3.13.3"
  }
 },
 "nbformat": 4,
 "nbformat_minor": 5
}
