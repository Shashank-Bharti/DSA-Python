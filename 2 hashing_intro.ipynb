{
 "cells": [
  {
   "cell_type": "markdown",
   "id": "bbbdeb1c",
   "metadata": {},
   "source": [
    "### Storing Frequency in Dictionary"
   ]
  },
  {
   "cell_type": "code",
   "execution_count": null,
   "id": "673709fa",
   "metadata": {},
   "outputs": [
    {
     "name": "stdout",
     "output_type": "stream",
     "text": [
      "{2: 2, 6: 1, 7: 2, 8: 1, 1: 3, 5: 1, 11: 1, 111: 1}\n"
     ]
    }
   ],
   "source": [
    "# Frequency Map \n",
    "nums = [2,2,6,7,7,8,1,5,11,111,1,1]\n",
    "freq_map = {}\n",
    "for i in range( 0,len(nums)):   #O(N)\n",
    "    if nums[i] in freq_map:     #O(1)\n",
    "        freq_map[nums[i]] += 1  #O(1)\n",
    "        \n",
    "    else:\n",
    "        freq_map[nums[i]]= 1    #O(1)\n",
    "    \n",
    "print(freq_map)"
   ]
  },
  {
   "cell_type": "code",
   "execution_count": 4,
   "id": "7dd0db2c",
   "metadata": {},
   "outputs": [
    {
     "name": "stdout",
     "output_type": "stream",
     "text": [
      "{2: 2, 6: 1, 7: 2, 8: 1, 1: 3, 5: 1, 11: 1, 111: 1}\n"
     ]
    }
   ],
   "source": [
    "# Method II\n",
    "n = len(nums)\n",
    "hash_map = {}\n",
    "for i in range (0,n):\n",
    "    hash_map[nums[i]] = hash_map.get(nums[i],0)+1\n",
    "\n",
    "print(hash_map)\n",
    "    "
   ]
  },
  {
   "cell_type": "markdown",
   "id": "adc13ac6",
   "metadata": {},
   "source": [
    "### Intro to Hashing"
   ]
  },
  {
   "cell_type": "code",
   "execution_count": 4,
   "id": "bd92ef20",
   "metadata": {},
   "outputs": [
    {
     "name": "stdout",
     "output_type": "stream",
     "text": [
      "1 0 1 0 4 1 0 2 "
     ]
    }
   ],
   "source": [
    "# Brute Force\n",
    "n = [5,3,2,2,1,5,5,7,5,10]\n",
    "m = [10,111,1,9,5,7,67,2]\n",
    "\n",
    "for num in m:\n",
    "    count = 0\n",
    "    for x in n:\n",
    "        if x == num: \n",
    "            count += 1\n",
    "    print(count,end=' ')\n"
   ]
  },
  {
   "cell_type": "code",
   "execution_count": 6,
   "id": "355a91dc",
   "metadata": {},
   "outputs": [
    {
     "name": "stdout",
     "output_type": "stream",
     "text": [
      "1 0 1 0 4 1 0 2 "
     ]
    }
   ],
   "source": [
    "# Optimal Method\n",
    "n = [5,3,2,2,1,5,5,7,5,10]\n",
    "m = [10,111,1,9,5,7,67,2]\n",
    "\n",
    "hash_list = [0] * (len(n)+1)\n",
    "for num in n:\n",
    "    hash_list[num] += 1\n",
    "for num in m:\n",
    "    if num < 1 or num > 10:\n",
    "        print(0,end=' ')\n",
    "    else:\n",
    "        print(hash_list[num], end=' ')"
   ]
  },
  {
   "cell_type": "code",
   "execution_count": 9,
   "id": "dba22be3",
   "metadata": {},
   "outputs": [
    {
     "name": "stdout",
     "output_type": "stream",
     "text": [
      "1 0 1 0 4 1 0 2 "
     ]
    }
   ],
   "source": [
    "# With Dictionary \n",
    "n = [5,3,2,2,1,5,5,7,5,10]\n",
    "m = [10,111,1,9,5,7,67,2]\n",
    "\n",
    "hash_map = {}\n",
    "for i in range (0,len(n)):\n",
    "    if n[i] in hash_map:\n",
    "        hash_map[n[i]] += 1\n",
    "    else:\n",
    "        hash_map[n[i]] = 1\n",
    "\n",
    "for num in m:\n",
    "    if num in hash_map:\n",
    "        \n",
    "        print(hash_map[num],end=' ')\n",
    "    else:\n",
    "        print(0,end=' ')"
   ]
  },
  {
   "cell_type": "markdown",
   "id": "14265483",
   "metadata": {},
   "source": [
    "#### Character Hashing \n"
   ]
  },
  {
   "cell_type": "code",
   "execution_count": 13,
   "id": "810b053a",
   "metadata": {},
   "outputs": [
    {
     "name": "stdout",
     "output_type": "stream",
     "text": [
      "0\n",
      "5\n",
      "3\n",
      "1\n"
     ]
    }
   ],
   "source": [
    "s = \"azyxyyzaaaa\"\n",
    "q = [\"d\",\"a\",\"y\",\"x\"]\n",
    "\n",
    "hash_list = [0]*26\n",
    "for ch in s:\n",
    "    ascii_val = ord(ch)\n",
    "    index = ascii_val - 97\n",
    "    hash_list[index] += 1\n",
    "for ch in q:\n",
    "    ascii_val = ord(ch)\n",
    "    index = ascii_val -97\n",
    "    print(hash_list[index])\n",
    "     "
   ]
  },
  {
   "cell_type": "code",
   "execution_count": null,
   "id": "9ddd204a",
   "metadata": {},
   "outputs": [],
   "source": []
  }
 ],
 "metadata": {
  "kernelspec": {
   "display_name": "Python 3",
   "language": "python",
   "name": "python3"
  },
  "language_info": {
   "codemirror_mode": {
    "name": "ipython",
    "version": 3
   },
   "file_extension": ".py",
   "mimetype": "text/x-python",
   "name": "python",
   "nbconvert_exporter": "python",
   "pygments_lexer": "ipython3",
   "version": "3.13.3"
  }
 },
 "nbformat": 4,
 "nbformat_minor": 5
}
