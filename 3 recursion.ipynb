{
 "cells": [
  {
   "cell_type": "markdown",
   "id": "a0d89671",
   "metadata": {},
   "source": [
    "### Introduction to Recursion"
   ]
  },
  {
   "cell_type": "code",
   "execution_count": null,
   "id": "c9201f08",
   "metadata": {},
   "outputs": [],
   "source": [
    "\n",
    "def greet():\n",
    "    print('hi!')\n",
    "    greet()\n",
    "    \n",
    "greet()"
   ]
  },
  {
   "cell_type": "code",
   "execution_count": null,
   "id": "fbddc2da",
   "metadata": {},
   "outputs": [
    {
     "name": "stdout",
     "output_type": "stream",
     "text": [
      "Shashank\n",
      "Shashank\n",
      "Shashank\n",
      "Shashank\n"
     ]
    }
   ],
   "source": [
    "# HEAD RECURSION\n",
    "count = 0\n",
    "\n",
    "def func():\n",
    "    global count\n",
    "    if count == 4:\n",
    "        return\n",
    "    print(\"Shashank\")\n",
    "    count += 1\n",
    "    func()\n",
    "    \n",
    "func()\n"
   ]
  },
  {
   "cell_type": "markdown",
   "id": "10a2f6c1",
   "metadata": {},
   "source": [
    "TC - O(N+1) = O(N),\n",
    "SC - O(N)"
   ]
  },
  {
   "cell_type": "code",
   "execution_count": 23,
   "id": "7207c24b",
   "metadata": {},
   "outputs": [
    {
     "name": "stdout",
     "output_type": "stream",
     "text": [
      "Shashank\n",
      "Shashank\n",
      "Shashank\n",
      "Shashank\n"
     ]
    }
   ],
   "source": [
    "# TAIL RECURSION\n",
    "count = 0\n",
    "\n",
    "def func():\n",
    "    global count\n",
    "    if count == 4:\n",
    "        return\n",
    "    count += 1\n",
    "    func()\n",
    "    print(\"Shashank\")\n",
    "    \n",
    "func()\n"
   ]
  },
  {
   "cell_type": "markdown",
   "id": "df8b836a",
   "metadata": {},
   "source": [
    "### Recursion Using Parameters"
   ]
  },
  {
   "cell_type": "code",
   "execution_count": 25,
   "id": "9eff9b0c",
   "metadata": {},
   "outputs": [
    {
     "name": "stdout",
     "output_type": "stream",
     "text": [
      "15\n",
      "15\n",
      "15\n",
      "15\n"
     ]
    }
   ],
   "source": [
    "def func(n,N):\n",
    "    if N == 0:\n",
    "        return\n",
    "    print(n)\n",
    "    func(n,N-1)\n",
    "    \n",
    "func(15,4)"
   ]
  },
  {
   "cell_type": "code",
   "execution_count": 34,
   "id": "2ca50354",
   "metadata": {},
   "outputs": [
    {
     "name": "stdout",
     "output_type": "stream",
     "text": [
      "1\n",
      "2\n",
      "3\n",
      "4\n",
      "5\n"
     ]
    }
   ],
   "source": [
    "# Print 1 -> N Using Recursion\n",
    "# Using Head Recursion\n",
    "def func(n,N):\n",
    "    if n > N:\n",
    "        return\n",
    "    print(n)\n",
    "    func(n+1,N)\n",
    "\n",
    "func(1,5)"
   ]
  },
  {
   "cell_type": "code",
   "execution_count": 36,
   "id": "90d9ace2",
   "metadata": {},
   "outputs": [
    {
     "name": "stdout",
     "output_type": "stream",
     "text": [
      "5\n",
      "4\n",
      "3\n",
      "2\n",
      "1\n"
     ]
    }
   ],
   "source": [
    "# Print N -> 1 Using Recursion\n",
    "# Using Tail Recursion\n",
    "def func(n,N):\n",
    "    if n > N:\n",
    "        return\n",
    "    func(n+1,N)\n",
    "    print(n)\n",
    "\n",
    "func(1,5)"
   ]
  },
  {
   "cell_type": "code",
   "execution_count": null,
   "id": "7333da8d",
   "metadata": {},
   "outputs": [
    {
     "name": "stdout",
     "output_type": "stream",
     "text": [
      "1\n",
      "2\n",
      "3\n",
      "4\n",
      "5\n"
     ]
    }
   ],
   "source": [
    "# 1 -> N Using Tail Recursion\n",
    "def func(N):\n",
    "    if N == 0:\n",
    "        return\n",
    "    func(N-1)\n",
    "    print(N)\n",
    "    \n",
    "func(5)"
   ]
  },
  {
   "cell_type": "markdown",
   "id": "70dcf96d",
   "metadata": {},
   "source": [
    "### Functional Recursion"
   ]
  },
  {
   "cell_type": "code",
   "execution_count": 39,
   "id": "7ef40bfa",
   "metadata": {},
   "outputs": [
    {
     "name": "stdout",
     "output_type": "stream",
     "text": [
      "10\n"
     ]
    }
   ],
   "source": [
    "# Parametrized Recursion\n",
    "\n",
    "def func(sum,i,N):\n",
    "    if i > N:\n",
    "        print (sum)\n",
    "        return\n",
    "    func(sum+i,i+1,N)\n",
    "    \n",
    "func(0,1,4)"
   ]
  },
  {
   "cell_type": "code",
   "execution_count": 41,
   "id": "9d6dfea9",
   "metadata": {},
   "outputs": [
    {
     "name": "stdout",
     "output_type": "stream",
     "text": [
      "10\n"
     ]
    }
   ],
   "source": [
    "# Functional \n",
    "def func(N):\n",
    "    if N == 1:\n",
    "        return 1\n",
    "    return N + func(N - 1)\n",
    "\n",
    "x = func(4)\n",
    "print(x)"
   ]
  },
  {
   "cell_type": "markdown",
   "id": "2bfd33bd",
   "metadata": {},
   "source": [
    "### Find Factorial of a Number"
   ]
  },
  {
   "cell_type": "code",
   "execution_count": 64,
   "id": "b84fdaf5",
   "metadata": {},
   "outputs": [
    {
     "name": "stdout",
     "output_type": "stream",
     "text": [
      "120\n"
     ]
    }
   ],
   "source": [
    "\n",
    "def func(n):\n",
    "    if n == 1:\n",
    "      return 1\n",
    "    return n * func(n-1)\n",
    "    \n",
    "    \n",
    "print(func(5))\n",
    "\n",
    "# TC- O(N)\n",
    "# SC- O(N)\n"
   ]
  },
  {
   "cell_type": "markdown",
   "id": "e1e9d3b9",
   "metadata": {},
   "source": [
    "### Reverse an array using recursion"
   ]
  },
  {
   "cell_type": "code",
   "execution_count": null,
   "id": "8d3b1179",
   "metadata": {},
   "outputs": [
    {
     "name": "stdout",
     "output_type": "stream",
     "text": [
      "[1, 3, 7, 5, 6, 4, 9, 8]\n"
     ]
    }
   ],
   "source": [
    "# CASE I - Left 2 , Right 5\n",
    "\n",
    "n = [1,3,4,6,5,7,9,8]\n",
    "\n",
    "nums = n\n",
    "def func(nums,left,right):\n",
    "    if left >= right:\n",
    "        return\n",
    "    nums[left],nums[right] = nums [right], nums[left]\n",
    "    func(nums,left + 1,right-1)\n",
    "    return nums\n",
    "    \n",
    "print(func(nums,2,5))\n",
    "# TC- O(N/2) ~ O(N)\n",
    "# SC- O(N) <- Stack Space\n"
   ]
  },
  {
   "cell_type": "code",
   "execution_count": null,
   "id": "49539d84",
   "metadata": {},
   "outputs": [],
   "source": []
  }
 ],
 "metadata": {
  "kernelspec": {
   "display_name": "Python 3",
   "language": "python",
   "name": "python3"
  },
  "language_info": {
   "codemirror_mode": {
    "name": "ipython",
    "version": 3
   },
   "file_extension": ".py",
   "mimetype": "text/x-python",
   "name": "python",
   "nbconvert_exporter": "python",
   "pygments_lexer": "ipython3",
   "version": "3.13.3"
  }
 },
 "nbformat": 4,
 "nbformat_minor": 5
}
