{
 "cells": [
  {
   "cell_type": "markdown",
   "id": "a0d89671",
   "metadata": {},
   "source": [
    "### Introduction to Recursion"
   ]
  },
  {
   "cell_type": "code",
   "execution_count": null,
   "id": "c9201f08",
   "metadata": {},
   "outputs": [],
   "source": [
    "\n",
    "def greet():\n",
    "    print('hi!')\n",
    "    greet()\n",
    "    \n",
    "greet()"
   ]
  },
  {
   "cell_type": "code",
   "execution_count": null,
   "id": "fbddc2da",
   "metadata": {},
   "outputs": [
    {
     "name": "stdout",
     "output_type": "stream",
     "text": [
      "Shashank\n",
      "Shashank\n",
      "Shashank\n",
      "Shashank\n"
     ]
    }
   ],
   "source": [
    "# HEAD RECURSION\n",
    "count = 0\n",
    "\n",
    "def func():\n",
    "    global count\n",
    "    if count == 4:\n",
    "        return\n",
    "    print(\"Shashank\")\n",
    "    count += 1\n",
    "    func()\n",
    "    \n",
    "func()\n"
   ]
  },
  {
   "cell_type": "markdown",
   "id": "10a2f6c1",
   "metadata": {},
   "source": [
    "TC - O(N+1) = O(N),\n",
    "SC - O(N)"
   ]
  },
  {
   "cell_type": "code",
   "execution_count": 23,
   "id": "7207c24b",
   "metadata": {},
   "outputs": [
    {
     "name": "stdout",
     "output_type": "stream",
     "text": [
      "Shashank\n",
      "Shashank\n",
      "Shashank\n",
      "Shashank\n"
     ]
    }
   ],
   "source": [
    "# TAIL RECURSION\n",
    "count = 0\n",
    "\n",
    "def func():\n",
    "    global count\n",
    "    if count == 4:\n",
    "        return\n",
    "    count += 1\n",
    "    func()\n",
    "    print(\"Shashank\")\n",
    "    \n",
    "func()\n"
   ]
  },
  {
   "cell_type": "markdown",
   "id": "df8b836a",
   "metadata": {},
   "source": [
    "### Recursion Using Parameters"
   ]
  },
  {
   "cell_type": "code",
   "execution_count": 25,
   "id": "9eff9b0c",
   "metadata": {},
   "outputs": [
    {
     "name": "stdout",
     "output_type": "stream",
     "text": [
      "15\n",
      "15\n",
      "15\n",
      "15\n"
     ]
    }
   ],
   "source": [
    "def func(n,N):\n",
    "    if N == 0:\n",
    "        return\n",
    "    print(n)\n",
    "    func(n,N-1)\n",
    "    \n",
    "func(15,4)"
   ]
  },
  {
   "cell_type": "code",
   "execution_count": 34,
   "id": "2ca50354",
   "metadata": {},
   "outputs": [
    {
     "name": "stdout",
     "output_type": "stream",
     "text": [
      "1\n",
      "2\n",
      "3\n",
      "4\n",
      "5\n"
     ]
    }
   ],
   "source": [
    "# Print 1 -> N Using Recursion\n",
    "# Using Head Recursion\n",
    "def func(n,N):\n",
    "    if n > N:\n",
    "        return\n",
    "    print(n)\n",
    "    func(n+1,N)\n",
    "\n",
    "func(1,5)"
   ]
  },
  {
   "cell_type": "code",
   "execution_count": 36,
   "id": "90d9ace2",
   "metadata": {},
   "outputs": [
    {
     "name": "stdout",
     "output_type": "stream",
     "text": [
      "5\n",
      "4\n",
      "3\n",
      "2\n",
      "1\n"
     ]
    }
   ],
   "source": [
    "# Print N -> 1 Using Recursion\n",
    "# Using Tail Recursion\n",
    "def func(n,N):\n",
    "    if n > N:\n",
    "        return\n",
    "    func(n+1,N)\n",
    "    print(n)\n",
    "\n",
    "func(1,5)"
   ]
  },
  {
   "cell_type": "code",
   "execution_count": null,
   "id": "7333da8d",
   "metadata": {},
   "outputs": [
    {
     "name": "stdout",
     "output_type": "stream",
     "text": [
      "1\n",
      "2\n",
      "3\n",
      "4\n",
      "5\n"
     ]
    }
   ],
   "source": [
    "# 1 -> N Using Tail Recursion\n",
    "def func(N):\n",
    "    if N == 0:\n",
    "        return\n",
    "    func(N-1)\n",
    "    print(N)\n",
    "    \n",
    "func(5)"
   ]
  }
 ],
 "metadata": {
  "kernelspec": {
   "display_name": "Python 3",
   "language": "python",
   "name": "python3"
  },
  "language_info": {
   "codemirror_mode": {
    "name": "ipython",
    "version": 3
   },
   "file_extension": ".py",
   "mimetype": "text/x-python",
   "name": "python",
   "nbconvert_exporter": "python",
   "pygments_lexer": "ipython3",
   "version": "3.13.3"
  }
 },
 "nbformat": 4,
 "nbformat_minor": 5
}
