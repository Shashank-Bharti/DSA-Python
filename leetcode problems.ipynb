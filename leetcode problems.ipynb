{
 "cells": [
  {
   "cell_type": "code",
   "execution_count": null,
   "id": "a02be950",
   "metadata": {},
   "outputs": [],
   "source": [
    "s = [\"h\",\"e\",\"l\",\"l\",\"o\"]\n",
    "class Solution:\n",
    "    def reverseString(self,s):\n",
    "        \n",
    "        def helper(left,right):\n",
    "            if left >= right:\n",
    "                return\n",
    "            s[left],s[right]=s[right],s[left]\n",
    "            helper(left+1,right-1)    \n",
    "            \n",
    "        helper(0, len(s)-1)\n",
    "        \n",
    "sol = Solution()\n",
    "sol.reverseString(s)\n",
    "print(s)"
   ]
  },
  {
   "cell_type": "markdown",
   "id": "02cb55cd",
   "metadata": {},
   "source": [
    "# Convert Integer to the Sum of Two No-Zero Integers\n"
   ]
  },
  {
   "cell_type": "code",
   "execution_count": 15,
   "id": "3bb672a4",
   "metadata": {},
   "outputs": [
    {
     "name": "stdout",
     "output_type": "stream",
     "text": [
      "[1, 15]\n"
     ]
    }
   ],
   "source": [
    "class Solution(object):  \n",
    "    def getNoZeroIntegers(self, n):\n",
    "        \"\"\"\n",
    "        :type n: int\n",
    "        :rtype: List[int]\n",
    "        \"\"\"\n",
    "        def hasZero(num):\n",
    "            while num > 0:\n",
    "                if num % 10 == 0:\n",
    "                    return True\n",
    "                num //= 10\n",
    "            return False\n",
    "        \n",
    "        for i in range(1, n):\n",
    "            b = n - i\n",
    "            if not hasZero(i) and not hasZero(b):\n",
    "                return [i, b]\n",
    "        \n",
    "        return []  \n",
    "\n",
    "print(Solution().getNoZeroIntegers(16))  "
   ]
  },
  {
   "cell_type": "code",
   "execution_count": 2,
   "id": "ef7fdb71",
   "metadata": {},
   "outputs": [
    {
     "name": "stdout",
     "output_type": "stream",
     "text": [
      "1\n",
      "2\n",
      "3\n",
      "4\n",
      "5\n"
     ]
    }
   ],
   "source": [
    "for i in range (1,5+1):\n",
    "    print(i)"
   ]
  }
 ],
 "metadata": {
  "kernelspec": {
   "display_name": "Python 3",
   "language": "python",
   "name": "python3"
  },
  "language_info": {
   "codemirror_mode": {
    "name": "ipython",
    "version": 3
   },
   "file_extension": ".py",
   "mimetype": "text/x-python",
   "name": "python",
   "nbconvert_exporter": "python",
   "pygments_lexer": "ipython3",
   "version": "3.13.3"
  }
 },
 "nbformat": 4,
 "nbformat_minor": 5
}
