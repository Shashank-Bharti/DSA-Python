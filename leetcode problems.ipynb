{
 "cells": [
  {
   "cell_type": "code",
   "execution_count": null,
   "id": "a02be950",
   "metadata": {},
   "outputs": [],
   "source": [
    "s = [\"h\",\"e\",\"l\",\"l\",\"o\"]\n",
    "class Solution:\n",
    "    def reverseString(self,s):\n",
    "        \n",
    "        def helper(left,right):\n",
    "            if left >= right:\n",
    "                return\n",
    "            s[left],s[right]=s[right],s[left]\n",
    "            helper(left+1,right-1)    \n",
    "            \n",
    "        helper(0, len(s)-1)\n",
    "        \n",
    "sol = Solution()\n",
    "sol.reverseString(s)\n",
    "print(s)"
   ]
  },
  {
   "cell_type": "markdown",
   "id": "02cb55cd",
   "metadata": {},
   "source": [
    "# Convert Integer to the Sum of Two No-Zero Integers\n"
   ]
  },
  {
   "cell_type": "code",
   "execution_count": 15,
   "id": "3bb672a4",
   "metadata": {},
   "outputs": [
    {
     "name": "stdout",
     "output_type": "stream",
     "text": [
      "[1, 15]\n"
     ]
    }
   ],
   "source": [
    "class Solution(object):  \n",
    "    def getNoZeroIntegers(self, n):\n",
    "        \"\"\"\n",
    "        :type n: int\n",
    "        :rtype: List[int]\n",
    "        \"\"\"\n",
    "        def hasZero(num):\n",
    "            while num > 0:\n",
    "                if num % 10 == 0:\n",
    "                    return True\n",
    "                num //= 10\n",
    "            return False\n",
    "        \n",
    "        for i in range(1, n):\n",
    "            b = n - i\n",
    "            if not hasZero(i) and not hasZero(b):\n",
    "                return [i, b]\n",
    "        \n",
    "        return []  \n",
    "\n",
    "print(Solution().getNoZeroIntegers(16))  "
   ]
  },
  {
   "cell_type": "code",
   "execution_count": 2,
   "id": "ef7fdb71",
   "metadata": {},
   "outputs": [
    {
     "name": "stdout",
     "output_type": "stream",
     "text": [
      "1\n",
      "2\n",
      "3\n",
      "4\n",
      "5\n"
     ]
    }
   ],
   "source": [
    "for i in range (1,5+1):\n",
    "    print(i)"
   ]
  },
  {
   "cell_type": "markdown",
   "id": "bac06c6b",
   "metadata": {},
   "source": [
    "## Contains Duplicate"
   ]
  },
  {
   "cell_type": "code",
   "execution_count": 8,
   "id": "c9519b8b",
   "metadata": {},
   "outputs": [
    {
     "data": {
      "text/plain": [
       "True"
      ]
     },
     "execution_count": 8,
     "metadata": {},
     "output_type": "execute_result"
    }
   ],
   "source": [
    "nums = [1,2,3,4,6,6]\n",
    "\n",
    "def containsDuplicate(nums):\n",
    "    \"\"\"\n",
    "    :type nums: List[int]\n",
    "    :rtype: bool\n",
    "    \"\"\"\n",
    "    unique_set = set(nums)\n",
    "    if len(nums) != len(unique_set):\n",
    "        return True\n",
    "    return False\n",
    "    \n",
    "containsDuplicate(nums=nums)"
   ]
  },
  {
   "cell_type": "markdown",
   "id": "e2ca148d",
   "metadata": {},
   "source": [
    "## Valid Anagram\n"
   ]
  },
  {
   "cell_type": "code",
   "execution_count": 9,
   "id": "fb8aa2e9",
   "metadata": {},
   "outputs": [
    {
     "data": {
      "text/plain": [
       "False"
      ]
     },
     "execution_count": 9,
     "metadata": {},
     "output_type": "execute_result"
    }
   ],
   "source": [
    "s = 'rat'\n",
    "t = 'cat'\n",
    "\n",
    "\n",
    "def isAnagram(s,t):\n",
    "    if len(s)!=len(t):\n",
    "        return False\n",
    "    countS, countT = {}, {}\n",
    "    for i in range(0,len(s)):\n",
    "        countS[s[i]] = countS.get(s[i],0)+1\n",
    "        countT[t[i]] = countT.get(t[i],0)+1\n",
    "    for c in countS:\n",
    "        if countS[c] != countT.get(c,0):\n",
    "            return False\n",
    "        return True\n",
    "        \n",
    "        \n",
    "            \n",
    "    \n",
    "isAnagram(s,t)"
   ]
  },
  {
   "cell_type": "code",
   "execution_count": 11,
   "id": "7c90f89e",
   "metadata": {},
   "outputs": [
    {
     "data": {
      "text/plain": [
       "False"
      ]
     },
     "execution_count": 11,
     "metadata": {},
     "output_type": "execute_result"
    }
   ],
   "source": [
    "class Solution(object):\n",
    "    def isAnagram(self, s, t):\n",
    "        \"\"\"\n",
    "        :type s: str\n",
    "        :type t: str\n",
    "        :rtype: bool\n",
    "        \"\"\"\n",
    "        if len(s) != len(t):\n",
    "            return False\n",
    "        countS, countT = {}, {}\n",
    "        for i in range(0,len(s)):\n",
    "            countS[s[i]] = 1 + countS.get(s[i],0)\n",
    "            countT[t[i]] = 1 + countT.get(t[i],0)\n",
    "        for c in countS:\n",
    "            if countS[c] != countT.get(c,0):\n",
    "                return False\n",
    "            return True\n",
    "        \n",
    "        \n",
    "sol = Solution()\n",
    "sol.isAnagram(s,t)"
   ]
  },
  {
   "cell_type": "markdown",
   "id": "2c3d7610",
   "metadata": {},
   "source": [
    "## Two Sum\n"
   ]
  },
  {
   "cell_type": "code",
   "execution_count": 19,
   "id": "27b43a58",
   "metadata": {},
   "outputs": [
    {
     "data": {
      "text/plain": [
       "[0, 2]"
      ]
     },
     "execution_count": 19,
     "metadata": {},
     "output_type": "execute_result"
    }
   ],
   "source": [
    "nums = [2,4,5,6]\n",
    "target = 7\n",
    "    \n",
    "\n",
    "def twoSum(nums, target):\n",
    "    hashNums={}\n",
    "    for i in range(0,len(nums)):\n",
    "        num = nums[i]\n",
    "        complement = target - num\n",
    "        if complement in  hashNums:\n",
    "            return [hashNums[complement], i]\n",
    "        hashNums[num] = i\n",
    "    return []\n",
    "        \n",
    "twoSum(nums,target)"
   ]
  },
  {
   "cell_type": "code",
   "execution_count": null,
   "id": "f176cddb",
   "metadata": {},
   "outputs": [],
   "source": []
  }
 ],
 "metadata": {
  "kernelspec": {
   "display_name": "Python 3",
   "language": "python",
   "name": "python3"
  },
  "language_info": {
   "codemirror_mode": {
    "name": "ipython",
    "version": 3
   },
   "file_extension": ".py",
   "mimetype": "text/x-python",
   "name": "python",
   "nbconvert_exporter": "python",
   "pygments_lexer": "ipython3",
   "version": "3.13.3"
  }
 },
 "nbformat": 4,
 "nbformat_minor": 5
}
